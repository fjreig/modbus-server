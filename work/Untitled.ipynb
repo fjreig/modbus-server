{
 "cells": [
  {
   "cell_type": "code",
   "execution_count": 3,
   "id": "bbb461dd-9085-4476-9f53-5f02db7f08fc",
   "metadata": {},
   "outputs": [],
   "source": [
    "#!pip install pymodbus"
   ]
  },
  {
   "cell_type": "code",
   "execution_count": 23,
   "id": "b0f9ed95-9688-4c14-b4da-e8331ceccddc",
   "metadata": {},
   "outputs": [],
   "source": [
    "import pymodbus.client as ModbusClient\n",
    "from pymodbus import (\n",
    "    FramerType,\n",
    "    ModbusException,\n",
    "    pymodbus_apply_logging_config,\n",
    ")"
   ]
  },
  {
   "cell_type": "code",
   "execution_count": 30,
   "id": "7636d901-2d6e-4cef-bad7-17e75635dde5",
   "metadata": {},
   "outputs": [],
   "source": [
    "host = \"modbus-server\"\n",
    "port = 5020"
   ]
  },
  {
   "cell_type": "code",
   "execution_count": 31,
   "id": "b354f0e4-7801-49ba-844d-dd3a2b0a5657",
   "metadata": {},
   "outputs": [
    {
     "name": "stderr",
     "output_type": "stream",
     "text": [
      "2025-02-06 18:27:02,010 DEBUG tcp:195 Connection to Modbus server established. Socket ('172.19.0.3', 56606)\n",
      "2025-02-06 18:27:02,010 DEBUG tcp:195 Connection to Modbus server established. Socket ('172.19.0.3', 56606)\n",
      "2025-02-06 18:27:02,010 DEBUG tcp:195 Connection to Modbus server established. Socket ('172.19.0.3', 56606)\n",
      "2025-02-06 18:27:02,010 DEBUG tcp:195 Connection to Modbus server established. Socket ('172.19.0.3', 56606)\n"
     ]
    },
    {
     "name": "stdout",
     "output_type": "stream",
     "text": [
      "get client\n",
      "connect to server\n",
      "get and verify data\n"
     ]
    }
   ],
   "source": [
    "# activate debugging\n",
    "pymodbus_apply_logging_config(\"DEBUG\")\n",
    "\n",
    "print(\"get client\")\n",
    "client: ModbusClient.ModbusBaseSyncClient\n",
    "\n",
    "client = ModbusClient.ModbusTcpClient(\n",
    "    host,\n",
    "    port=port,\n",
    "    framer=FramerType.SOCKET,\n",
    "    # timeout=10,\n",
    "    # retries=3,\n",
    "    # source_address=(\"localhost\", 0),\n",
    ")\n",
    "\n",
    "print(\"connect to server\")\n",
    "client.connect()\n",
    "print(\"get and verify data\")"
   ]
  },
  {
   "cell_type": "code",
   "execution_count": 48,
   "id": "b93ef8a0-6e53-416e-b746-6ca8e1aa20bd",
   "metadata": {},
   "outputs": [],
   "source": [
    "def leer_modbus(registro, num_reg, esclavo):\n",
    "    try:\n",
    "        # See all calls in client_calls.py\n",
    "        rr = client.read_holding_registers(registro, count=num_reg, slave=esclavo)\n",
    "    except ModbusException as exc:\n",
    "        print(f\"Received ModbusException({exc}) from library\")\n",
    "        client.close()\n",
    "        return\n",
    "    if rr.isError():\n",
    "        print(f\"Received exception from device ({rr})\")\n",
    "        # THIS IS NOT A PYTHON EXCEPTION, but a valid modbus message\n",
    "        client.close()\n",
    "        return\n",
    "    value_int32 = client.convert_from_registers(rr.registers, data_type=client.DATATYPE.INT16)\n",
    "    print(f\"Got int32: {value_int32}\")\n",
    "\n",
    "    print(\"close connection\")\n",
    "    client.close()"
   ]
  },
  {
   "cell_type": "code",
   "execution_count": 46,
   "id": "44e4ddf1-126c-4064-958d-c22a3b864978",
   "metadata": {},
   "outputs": [],
   "source": [
    "def escribir_modbus(registro, num_reg, esclavo):\n",
    "    try:\n",
    "        # See all calls in client_calls.py\n",
    "        rr = client.write_register(registro, value=num_reg, slave=esclavo)\n",
    "    except ModbusException as exc:\n",
    "        print(f\"Received ModbusException({exc}) from library\")\n",
    "        client.close()\n",
    "        return\n",
    "    if rr.isError():\n",
    "        print(f\"Received exception from device ({rr})\")\n",
    "        # THIS IS NOT A PYTHON EXCEPTION, but a valid modbus message\n",
    "        client.close()\n",
    "        return\n",
    "    value_int32 = client.convert_from_registers(rr.registers, data_type=client.DATATYPE.INT16)\n",
    "    print(f\"Got int32: {value_int32}\")\n",
    "\n",
    "    print(\"close connection\")\n",
    "    client.close()"
   ]
  },
  {
   "cell_type": "code",
   "execution_count": 73,
   "id": "9b96919a-8a33-4a0d-814a-baf7c50d0aa8",
   "metadata": {},
   "outputs": [
    {
     "name": "stderr",
     "output_type": "stream",
     "text": [
      "2025-02-06 19:05:09,761 DEBUG tcp:195 Connection to Modbus server established. Socket ('172.19.0.3', 50074)\n",
      "2025-02-06 19:05:09,761 DEBUG tcp:195 Connection to Modbus server established. Socket ('172.19.0.3', 50074)\n",
      "2025-02-06 19:05:09,761 DEBUG tcp:195 Connection to Modbus server established. Socket ('172.19.0.3', 50074)\n",
      "2025-02-06 19:05:09,761 DEBUG tcp:195 Connection to Modbus server established. Socket ('172.19.0.3', 50074)\n",
      "2025-02-06 19:05:09,771 DEBUG base:91 Processing: 0x0 0x22 0x0 0x0 0x0 0x5 0x1 0x3 0x2 0x0 0x3\n",
      "2025-02-06 19:05:09,771 DEBUG base:91 Processing: 0x0 0x22 0x0 0x0 0x0 0x5 0x1 0x3 0x2 0x0 0x3\n",
      "2025-02-06 19:05:09,771 DEBUG base:91 Processing: 0x0 0x22 0x0 0x0 0x0 0x5 0x1 0x3 0x2 0x0 0x3\n",
      "2025-02-06 19:05:09,771 DEBUG base:91 Processing: 0x0 0x22 0x0 0x0 0x0 0x5 0x1 0x3 0x2 0x0 0x3\n",
      "2025-02-06 19:05:09,782 DEBUG decoders:113 decoded PDU function_code(3 sub -1) -> ReadHoldingRegistersResponse(dev_id=0, transaction_id=0, address=0, count=0, bits=[], registers=[3], status=1) \n",
      "2025-02-06 19:05:09,782 DEBUG decoders:113 decoded PDU function_code(3 sub -1) -> ReadHoldingRegistersResponse(dev_id=0, transaction_id=0, address=0, count=0, bits=[], registers=[3], status=1) \n",
      "2025-02-06 19:05:09,782 DEBUG decoders:113 decoded PDU function_code(3 sub -1) -> ReadHoldingRegistersResponse(dev_id=0, transaction_id=0, address=0, count=0, bits=[], registers=[3], status=1) \n",
      "2025-02-06 19:05:09,782 DEBUG decoders:113 decoded PDU function_code(3 sub -1) -> ReadHoldingRegistersResponse(dev_id=0, transaction_id=0, address=0, count=0, bits=[], registers=[3], status=1) \n",
      "2025-02-06 19:05:09,793 DEBUG base:101 Frame advanced, resetting header!!\n",
      "2025-02-06 19:05:09,793 DEBUG base:101 Frame advanced, resetting header!!\n",
      "2025-02-06 19:05:09,793 DEBUG base:101 Frame advanced, resetting header!!\n",
      "2025-02-06 19:05:09,793 DEBUG base:101 Frame advanced, resetting header!!\n"
     ]
    },
    {
     "name": "stdout",
     "output_type": "stream",
     "text": [
      "Got int32: 3\n",
      "close connection\n"
     ]
    }
   ],
   "source": [
    "leer_modbus(0, 1, 1)"
   ]
  },
  {
   "cell_type": "code",
   "execution_count": 66,
   "id": "269a8e28-9619-4af4-beee-575b612f3e41",
   "metadata": {},
   "outputs": [
    {
     "name": "stderr",
     "output_type": "stream",
     "text": [
      "2025-02-06 18:59:50,430 DEBUG tcp:195 Connection to Modbus server established. Socket ('172.19.0.3', 56788)\n",
      "2025-02-06 18:59:50,430 DEBUG tcp:195 Connection to Modbus server established. Socket ('172.19.0.3', 56788)\n",
      "2025-02-06 18:59:50,430 DEBUG tcp:195 Connection to Modbus server established. Socket ('172.19.0.3', 56788)\n",
      "2025-02-06 18:59:50,430 DEBUG tcp:195 Connection to Modbus server established. Socket ('172.19.0.3', 56788)\n",
      "2025-02-06 18:59:50,444 DEBUG base:91 Processing: 0x0 0x1b 0x0 0x0 0x0 0x6 0x1 0x6 0x0 0x1 0x0 0x63\n",
      "2025-02-06 18:59:50,444 DEBUG base:91 Processing: 0x0 0x1b 0x0 0x0 0x0 0x6 0x1 0x6 0x0 0x1 0x0 0x63\n",
      "2025-02-06 18:59:50,444 DEBUG base:91 Processing: 0x0 0x1b 0x0 0x0 0x0 0x6 0x1 0x6 0x0 0x1 0x0 0x63\n",
      "2025-02-06 18:59:50,444 DEBUG base:91 Processing: 0x0 0x1b 0x0 0x0 0x0 0x6 0x1 0x6 0x0 0x1 0x0 0x63\n",
      "2025-02-06 18:59:50,452 DEBUG decoders:113 decoded PDU function_code(6 sub -1) -> WriteSingleRegisterResponse(dev_id=0, transaction_id=0, address=1, count=0, bits=[], registers=[99], status=1) \n",
      "2025-02-06 18:59:50,452 DEBUG decoders:113 decoded PDU function_code(6 sub -1) -> WriteSingleRegisterResponse(dev_id=0, transaction_id=0, address=1, count=0, bits=[], registers=[99], status=1) \n",
      "2025-02-06 18:59:50,452 DEBUG decoders:113 decoded PDU function_code(6 sub -1) -> WriteSingleRegisterResponse(dev_id=0, transaction_id=0, address=1, count=0, bits=[], registers=[99], status=1) \n",
      "2025-02-06 18:59:50,452 DEBUG decoders:113 decoded PDU function_code(6 sub -1) -> WriteSingleRegisterResponse(dev_id=0, transaction_id=0, address=1, count=0, bits=[], registers=[99], status=1) \n",
      "2025-02-06 18:59:50,457 DEBUG base:101 Frame advanced, resetting header!!\n",
      "2025-02-06 18:59:50,457 DEBUG base:101 Frame advanced, resetting header!!\n",
      "2025-02-06 18:59:50,457 DEBUG base:101 Frame advanced, resetting header!!\n",
      "2025-02-06 18:59:50,457 DEBUG base:101 Frame advanced, resetting header!!\n"
     ]
    },
    {
     "name": "stdout",
     "output_type": "stream",
     "text": [
      "Got int32: 99\n",
      "close connection\n"
     ]
    }
   ],
   "source": [
    "escribir_modbus(1, 99, 1)"
   ]
  },
  {
   "cell_type": "code",
   "execution_count": 74,
   "id": "4ba4f916-09f2-481b-ae24-27cde019115d",
   "metadata": {},
   "outputs": [],
   "source": [
    "import struct"
   ]
  },
  {
   "cell_type": "markdown",
   "id": "d401da10-58db-4f04-952a-02f06c3a18a5",
   "metadata": {},
   "source": [
    "# INT16"
   ]
  },
  {
   "cell_type": "code",
   "execution_count": 250,
   "id": "e322d4e7-096b-4e6e-9665-ba7cd8a3e8c9",
   "metadata": {},
   "outputs": [],
   "source": [
    "def convertir_int(data):\n",
    "    value = struct.unpack('<H',struct.pack('<h',data))[0]\n",
    "    return(value)"
   ]
  },
  {
   "cell_type": "code",
   "execution_count": 267,
   "id": "49d2fdb2-2b22-49ea-a4bc-43c46bde4930",
   "metadata": {},
   "outputs": [],
   "source": [
    "def reverse_convertir_int(value):\n",
    "    return list(struct.pack('<H', value))"
   ]
  },
  {
   "cell_type": "code",
   "execution_count": 277,
   "id": "21eb8760-c5ab-483d-91f3-c9bfd8c892fb",
   "metadata": {},
   "outputs": [],
   "source": [
    "data1 = 10"
   ]
  },
  {
   "cell_type": "code",
   "execution_count": 278,
   "id": "dd46d200-79b1-4cfa-bd2a-2091ef948ea6",
   "metadata": {},
   "outputs": [
    {
     "data": {
      "text/plain": [
       "10"
      ]
     },
     "execution_count": 278,
     "metadata": {},
     "output_type": "execute_result"
    }
   ],
   "source": [
    "convertir_int(data1)"
   ]
  },
  {
   "cell_type": "code",
   "execution_count": 279,
   "id": "97e07d37-7c0e-4241-8f7e-133866ded02c",
   "metadata": {},
   "outputs": [
    {
     "data": {
      "text/plain": [
       "[246, 255]"
      ]
     },
     "execution_count": 279,
     "metadata": {},
     "output_type": "execute_result"
    }
   ],
   "source": [
    "reverse_convertir_int(65526)"
   ]
  },
  {
   "cell_type": "markdown",
   "id": "3d9f5f34-fe60-44af-badc-fe458f402f15",
   "metadata": {},
   "source": [
    "# INT32"
   ]
  },
  {
   "cell_type": "code",
   "execution_count": 280,
   "id": "bee24fd2-6700-4445-a69d-828566e0f643",
   "metadata": {},
   "outputs": [],
   "source": [
    "def convertir_int32(data):\n",
    "    value = struct.unpack('<I',struct.pack('<i',valor))[0]\n",
    "    return(value)"
   ]
  },
  {
   "cell_type": "code",
   "execution_count": 285,
   "id": "ae8f8a18-f347-4ed1-b91e-180da8f156af",
   "metadata": {},
   "outputs": [],
   "source": [
    "def reverse_convertir_int32(value):\n",
    "    return struct.unpack('<i', struct.pack('<I', value))[0]"
   ]
  },
  {
   "cell_type": "code",
   "execution_count": 286,
   "id": "f091ed52-41ca-44f3-97e5-b4259e143dbe",
   "metadata": {},
   "outputs": [],
   "source": [
    "data2 = 10"
   ]
  },
  {
   "cell_type": "code",
   "execution_count": 287,
   "id": "f09f2aae-9e61-4277-9a9a-88d3398340c9",
   "metadata": {},
   "outputs": [
    {
     "data": {
      "text/plain": [
       "4294967286"
      ]
     },
     "execution_count": 287,
     "metadata": {},
     "output_type": "execute_result"
    }
   ],
   "source": [
    "convertir_int32(data2)"
   ]
  },
  {
   "cell_type": "code",
   "execution_count": 288,
   "id": "5c341b3f-d2ec-4a7e-8a30-b4b9ae4676a7",
   "metadata": {},
   "outputs": [
    {
     "data": {
      "text/plain": [
       "-10"
      ]
     },
     "execution_count": 288,
     "metadata": {},
     "output_type": "execute_result"
    }
   ],
   "source": [
    "reverse_convertir_int32(4294967286)"
   ]
  },
  {
   "cell_type": "markdown",
   "id": "1ce17319-e6e2-4730-9786-6cd212a2613e",
   "metadata": {},
   "source": [
    "# INT64"
   ]
  },
  {
   "cell_type": "code",
   "execution_count": 215,
   "id": "ead89e73-5c6e-446d-a95a-bf28cc7cd7ce",
   "metadata": {},
   "outputs": [],
   "source": [
    "def convertir_int64(data):\n",
    "    value = struct.unpack(\"<I\", bytearray(data))[0]\n",
    "    return(value)"
   ]
  },
  {
   "cell_type": "code",
   "execution_count": 216,
   "id": "ac8bc0f1-3bce-4b67-8c67-0ff40c8d9462",
   "metadata": {},
   "outputs": [],
   "source": [
    "def convertir_int64_reverse(value):\n",
    "    return list(struct.pack('<I', value))"
   ]
  },
  {
   "cell_type": "code",
   "execution_count": 229,
   "id": "9053a05e-f437-4db3-8943-0e4ae9209905",
   "metadata": {},
   "outputs": [],
   "source": [
    "data3 = [123, 45, 67, 89]"
   ]
  },
  {
   "cell_type": "code",
   "execution_count": 232,
   "id": "a2bbba7c-41bf-4abf-996a-228e901f227c",
   "metadata": {},
   "outputs": [
    {
     "data": {
      "text/plain": [
       "1497574779"
      ]
     },
     "execution_count": 232,
     "metadata": {},
     "output_type": "execute_result"
    }
   ],
   "source": [
    "convertir_int64(data3)"
   ]
  },
  {
   "cell_type": "code",
   "execution_count": 233,
   "id": "ca243c82-4991-4155-89af-cd200863b675",
   "metadata": {},
   "outputs": [
    {
     "data": {
      "text/plain": [
       "[232, 253, 0, 0]"
      ]
     },
     "execution_count": 233,
     "metadata": {},
     "output_type": "execute_result"
    }
   ],
   "source": [
    "convertir_int64_reverse(65000)"
   ]
  },
  {
   "cell_type": "code",
   "execution_count": 289,
   "id": "757092b8-40f0-4ca5-b467-c61ff4dc1b3c",
   "metadata": {},
   "outputs": [],
   "source": [
    "# pruebas"
   ]
  },
  {
   "cell_type": "code",
   "execution_count": 317,
   "id": "c860a068-6522-4e9f-be06-1ad1bbbf28dd",
   "metadata": {},
   "outputs": [],
   "source": [
    "def int_to_uint(value):\n",
    "    return struct.unpack('<H',struct.pack('<h',value))[0]\n",
    "\n",
    "def uint_to_int(value):\n",
    "    return struct.unpack('<h',struct.pack('<H',value))[0]\n",
    "\n",
    "def int16_to_two_uint8(value):\n",
    "    return struct.unpack('<BB', struct.pack('<h', value))\n",
    "\n",
    "def two_uint8_to_int16(byte0, byte1):\n",
    "    return struct.unpack('<h', struct.pack('<BB', byte0, byte1))[0]\n",
    "\n",
    "def int32_to_four_uint8(value):\n",
    "    return struct.unpack('<BBBB', struct.pack('<i', value))\n",
    "\n",
    "def four_uint8_to_int32(byte0, byte1, byte2, byte3):\n",
    "    return struct.unpack('<i', struct.pack('<BBBB', byte0, byte1, byte2, byte3))[0]"
   ]
  },
  {
   "cell_type": "code",
   "execution_count": 316,
   "id": "459095c5-1f62-47c8-bda0-0b15d0c472f7",
   "metadata": {},
   "outputs": [
    {
     "data": {
      "text/plain": [
       "64536"
      ]
     },
     "execution_count": 316,
     "metadata": {},
     "output_type": "execute_result"
    }
   ],
   "source": [
    "int_to_uint(-1000)"
   ]
  },
  {
   "cell_type": "code",
   "execution_count": 318,
   "id": "4a8a129a-fb2a-4f06-a4ac-88e401980803",
   "metadata": {},
   "outputs": [
    {
     "data": {
      "text/plain": [
       "-1000"
      ]
     },
     "execution_count": 318,
     "metadata": {},
     "output_type": "execute_result"
    }
   ],
   "source": [
    "uint_to_int(64536)"
   ]
  },
  {
   "cell_type": "code",
   "execution_count": 320,
   "id": "f2c298f6-5e8e-4105-8a49-aa7a45e5a230",
   "metadata": {},
   "outputs": [
    {
     "data": {
      "text/plain": [
       "(101, 255)"
      ]
     },
     "execution_count": 320,
     "metadata": {},
     "output_type": "execute_result"
    }
   ],
   "source": [
    "int16_to_two_uint8(-155)"
   ]
  },
  {
   "cell_type": "code",
   "execution_count": 321,
   "id": "3fb36e01-9b54-4328-8cd5-44458899ab57",
   "metadata": {},
   "outputs": [
    {
     "ename": "TypeError",
     "evalue": "two_uint8_to_int16() missing 1 required positional argument: 'byte1'",
     "output_type": "error",
     "traceback": [
      "\u001b[0;31m---------------------------------------------------------------------------\u001b[0m",
      "\u001b[0;31mTypeError\u001b[0m                                 Traceback (most recent call last)",
      "Cell \u001b[0;32mIn[321], line 1\u001b[0m\n\u001b[0;32m----> 1\u001b[0m \u001b[43mtwo_uint8_to_int16\u001b[49m\u001b[43m(\u001b[49m\u001b[38;5;241;43m-\u001b[39;49m\u001b[38;5;241;43m155\u001b[39;49m\u001b[43m)\u001b[49m\n",
      "\u001b[0;31mTypeError\u001b[0m: two_uint8_to_int16() missing 1 required positional argument: 'byte1'"
     ]
    }
   ],
   "source": [
    "two_uint8_to_int16(-155)"
   ]
  },
  {
   "cell_type": "code",
   "execution_count": 322,
   "id": "4580dd02-7059-4508-9cf3-a067627259be",
   "metadata": {},
   "outputs": [
    {
     "data": {
      "text/plain": [
       "(101, 255, 255, 255)"
      ]
     },
     "execution_count": 322,
     "metadata": {},
     "output_type": "execute_result"
    }
   ],
   "source": [
    "int32_to_four_uint8(-155)"
   ]
  },
  {
   "cell_type": "code",
   "execution_count": 323,
   "id": "11ce7203-8863-4a70-b0e7-544b38e3946b",
   "metadata": {},
   "outputs": [
    {
     "data": {
      "text/plain": [
       "2"
      ]
     },
     "execution_count": 323,
     "metadata": {},
     "output_type": "execute_result"
    }
   ],
   "source": [
    "two_uint8_to_int16(2,0)"
   ]
  },
  {
   "cell_type": "code",
   "execution_count": 324,
   "id": "f3a493bf-a3a7-45a7-8d8b-82b7e0b86001",
   "metadata": {},
   "outputs": [
    {
     "data": {
      "text/plain": [
       "10"
      ]
     },
     "execution_count": 324,
     "metadata": {},
     "output_type": "execute_result"
    }
   ],
   "source": [
    "two_uint8_to_int16(10,0)"
   ]
  },
  {
   "cell_type": "code",
   "execution_count": null,
   "id": "e3352f11-8c2e-46ad-9540-42512afa3b6c",
   "metadata": {},
   "outputs": [],
   "source": []
  }
 ],
 "metadata": {
  "kernelspec": {
   "display_name": "Python 3 (ipykernel)",
   "language": "python",
   "name": "python3"
  },
  "language_info": {
   "codemirror_mode": {
    "name": "ipython",
    "version": 3
   },
   "file_extension": ".py",
   "mimetype": "text/x-python",
   "name": "python",
   "nbconvert_exporter": "python",
   "pygments_lexer": "ipython3",
   "version": "3.11.6"
  }
 },
 "nbformat": 4,
 "nbformat_minor": 5
}
